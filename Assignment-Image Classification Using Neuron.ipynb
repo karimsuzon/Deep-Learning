{
 "cells": [
  {
   "cell_type": "markdown",
   "metadata": {},
   "source": [
    "Assignment: Image Classification Using Neuron"
   ]
  },
  {
   "cell_type": "code",
   "execution_count": 1,
   "metadata": {},
   "outputs": [],
   "source": [
    "# Change the datsets shape\n",
    "# Add extra neuron with activation function \"Relu\" don't use \"tanh\" activation function\n",
    "# Submit it on your gitHub repository"
   ]
  },
  {
   "cell_type": "code",
   "execution_count": 2,
   "metadata": {},
   "outputs": [],
   "source": [
    "import numpy as np\n",
    "import pandas as pd\n",
    "import matplotlib.pyplot as plt\n",
    "%matplotlib inline\n",
    "import cv2"
   ]
  },
  {
   "cell_type": "code",
   "execution_count": 3,
   "metadata": {},
   "outputs": [],
   "source": [
    "from tensorflow.keras.layers import Dense, Conv2D, MaxPooling2D, Flatten, Dropout\n",
    "from tensorflow.keras.models import Sequential\n",
    "from tensorflow.keras.utils import to_categorical"
   ]
  },
  {
   "cell_type": "code",
   "execution_count": 4,
   "metadata": {},
   "outputs": [
    {
     "data": {
      "text/plain": [
       "'C:\\\\Users\\\\karim Suzon\\\\Downloads\\\\Deep Learning'"
      ]
     },
     "execution_count": 4,
     "metadata": {},
     "output_type": "execute_result"
    }
   ],
   "source": [
    "from sklearn.model_selection import train_test_split\n",
    "import os\n",
    "os.getcwd()"
   ]
  },
  {
   "cell_type": "code",
   "execution_count": 5,
   "metadata": {},
   "outputs": [],
   "source": [
    "np.random.seed(1)"
   ]
  },
  {
   "cell_type": "code",
   "execution_count": 6,
   "metadata": {},
   "outputs": [],
   "source": [
    "train_images = []\n",
    "train_labels = []\n",
    "shape = (224, 224)\n",
    "\n",
    "train_datasets_path = \"datasets/train_zip/train/\"\n",
    "\n",
    "for filename in os.listdir(\"datasets/train_zip/train/\"):\n",
    "    if filename.split('.')[1] =='jpg':\n",
    "        img = cv2.imread(os.path.join(train_datasets_path, filename))\n",
    "        train_labels.append(filename.split('_')[0])\n",
    "        img = cv2.resize(img,shape)\n",
    "        train_images.append(img)\n",
    "        \n",
    "        \n",
    "train_labels = pd.get_dummies(train_labels).values\n",
    "train_images = np.array(train_images)"
   ]
  },
  {
   "cell_type": "code",
   "execution_count": 7,
   "metadata": {},
   "outputs": [],
   "source": [
    "x_train, x_test, y_train, y_test = train_test_split(train_images, train_labels, random_state=1)"
   ]
  },
  {
   "cell_type": "code",
   "execution_count": 8,
   "metadata": {},
   "outputs": [],
   "source": [
    "test_images = []\n",
    "test_labels = []\n",
    "shape = (224, 224)\n",
    "\n",
    "test_datasets_path = \"datasets/test_zip/test/\"\n",
    "\n",
    "for filename in os.listdir(\"datasets/test_zip/test/\"):\n",
    "    if filename.split('.')[1] =='jpg':\n",
    "        img = cv2.imread(os.path.join(test_datasets_path, filename))\n",
    "        test_labels.append(filename.split('_')[0])\n",
    "        img = cv2.resize(img,shape)\n",
    "        test_images.append(img)\n",
    "        \n",
    "        \n",
    "test_images = np.array(test_images)"
   ]
  },
  {
   "cell_type": "markdown",
   "metadata": {},
   "source": [
    "Models"
   ]
  },
  {
   "cell_type": "code",
   "execution_count": 14,
   "metadata": {},
   "outputs": [],
   "source": [
    "model = Sequential()\n",
    "# 1st / Input Layer\n",
    "model.add(Conv2D(kernel_size = (3, 3), filters = 32, activation = 'relu', input_shape = (224, 224, 3)))\n",
    "\n",
    "\n",
    "# 1st Hidden Layer\n",
    "model.add(Conv2D(filters = 64, kernel_size = (3, 3), activation = 'relu'))\n",
    "model.add(MaxPooling2D((2, 2)))\n",
    "\n",
    "# 2nd Hidden Layer\n",
    "model.add(Conv2D(filters = 128, kernel_size = (3, 3), activation = 'relu'))\n",
    "model.add(MaxPooling2D((2, 2)))\n",
    "\n",
    "# Bridge Layer\n",
    "model.add(Flatten())\n",
    "\n",
    "# Output Layer\n",
    "\n",
    "model.add(Dense(40, activation = 'relu'))\n",
    "model.add(Dense(25, activation = 'relu'))\n",
    "model.add(Dense(4, activation = 'softmax'))\n"
   ]
  },
  {
   "cell_type": "code",
   "execution_count": 15,
   "metadata": {},
   "outputs": [],
   "source": [
    "model.compile(optimizer = 'adam',\n",
    "              loss = 'categorical_crossentropy',\n",
    "             metrics = ['acc'])"
   ]
  },
  {
   "cell_type": "code",
   "execution_count": 16,
   "metadata": {},
   "outputs": [
    {
     "name": "stdout",
     "output_type": "stream",
     "text": [
      "Model: \"sequential_1\"\n",
      "_________________________________________________________________\n",
      " Layer (type)                Output Shape              Param #   \n",
      "=================================================================\n",
      " conv2d_3 (Conv2D)           (None, 222, 222, 32)      896       \n",
      "                                                                 \n",
      " conv2d_4 (Conv2D)           (None, 220, 220, 64)      18496     \n",
      "                                                                 \n",
      " max_pooling2d_2 (MaxPooling  (None, 110, 110, 64)     0         \n",
      " 2D)                                                             \n",
      "                                                                 \n",
      " conv2d_5 (Conv2D)           (None, 108, 108, 128)     73856     \n",
      "                                                                 \n",
      " max_pooling2d_3 (MaxPooling  (None, 54, 54, 128)      0         \n",
      " 2D)                                                             \n",
      "                                                                 \n",
      " flatten_1 (Flatten)         (None, 373248)            0         \n",
      "                                                                 \n",
      " dense_3 (Dense)             (None, 40)                14929960  \n",
      "                                                                 \n",
      " dense_4 (Dense)             (None, 25)                1025      \n",
      "                                                                 \n",
      " dense_5 (Dense)             (None, 4)                 104       \n",
      "                                                                 \n",
      "=================================================================\n",
      "Total params: 15,024,337\n",
      "Trainable params: 15,024,337\n",
      "Non-trainable params: 0\n",
      "_________________________________________________________________\n"
     ]
    }
   ],
   "source": [
    "model.summary()"
   ]
  },
  {
   "cell_type": "code",
   "execution_count": 17,
   "metadata": {},
   "outputs": [
    {
     "name": "stdout",
     "output_type": "stream",
     "text": [
      "Epoch 1/5\n",
      "4/4 [==============================] - 35s 9s/step - loss: 573.5573 - acc: 0.2611 - val_loss: 84.1042 - val_acc: 0.2500\n",
      "Epoch 2/5\n",
      "4/4 [==============================] - 34s 9s/step - loss: 36.8483 - acc: 0.3333 - val_loss: 8.7200 - val_acc: 0.6000\n",
      "Epoch 3/5\n",
      "4/4 [==============================] - 34s 8s/step - loss: 8.9741 - acc: 0.4833 - val_loss: 2.0721 - val_acc: 0.5667\n",
      "Epoch 4/5\n",
      "4/4 [==============================] - 34s 9s/step - loss: 1.2920 - acc: 0.6056 - val_loss: 0.6477 - val_acc: 0.7667\n",
      "Epoch 5/5\n",
      "4/4 [==============================] - 34s 8s/step - loss: 0.4870 - acc: 0.8167 - val_loss: 0.6446 - val_acc: 0.8833\n"
     ]
    }
   ],
   "source": [
    "model_data  = model.fit(x_train, \n",
    "                        y_train,\n",
    "                       epochs=5,\n",
    "                       batch_size = 50,\n",
    "                       validation_data=(x_test, y_test))"
   ]
  },
  {
   "cell_type": "code",
   "execution_count": 18,
   "metadata": {},
   "outputs": [
    {
     "name": "stdout",
     "output_type": "stream",
     "text": [
      "2/2 [==============================] - 3s 1s/step - loss: 0.6446 - acc: 0.8833\n"
     ]
    }
   ],
   "source": [
    "model_evaluate = model.evaluate(x_test, y_test)"
   ]
  },
  {
   "cell_type": "code",
   "execution_count": 19,
   "metadata": {},
   "outputs": [
    {
     "name": "stdout",
     "output_type": "stream",
     "text": [
      "[0.6445702910423279, 0.8833333253860474]\n"
     ]
    }
   ],
   "source": [
    "print(model_evaluate)"
   ]
  },
  {
   "cell_type": "code",
   "execution_count": 20,
   "metadata": {},
   "outputs": [
    {
     "data": {
      "image/png": "[encoded data removed]",
      "text/plain": [
       "<Figure size 432x288 with 1 Axes>"
      ]
     },
     "metadata": {
      "needs_background": "light"
     },
     "output_type": "display_data"
    }
   ],
   "source": [
    "plt.plot(model_data.history['acc'])\n",
    "plt.plot(model_data.history['val_acc'])\n",
    "plt.title(\"Model Accuracy\")\n",
    "plt.xlabel(\"accuracy\")\n",
    "plt.ylabel('epochs')\n",
    "plt.tight_layout()\n",
    "plt.legend(['train', 'test'], loc = 'upper left')\n",
    "plt.show()"
   ]
  },
  {
   "cell_type": "code",
   "execution_count": 21,
   "metadata": {},
   "outputs": [
    {
     "data": {
      "image/png": "[encoded data removed]",
      "text/plain": [
       "<Figure size 432x288 with 1 Axes>"
      ]
     },
     "metadata": {
      "needs_background": "light"
     },
     "output_type": "display_data"
    }
   ],
   "source": [
    "plt.plot(model_data.history['loss'])\n",
    "plt.plot(model_data.history['val_loss'])\n",
    "plt.title(\"Model Loss\")\n",
    "plt.xlabel(\"Loss\")\n",
    "plt.ylabel('epochs')\n",
    "plt.tight_layout()\n",
    "plt.legend(['train', 'test'], loc = 'upper left')\n",
    "plt.show()"
   ]
  },
  {
   "cell_type": "code",
   "execution_count": 22,
   "metadata": {},
   "outputs": [
    {
     "name": "stdout",
     "output_type": "stream",
     "text": [
      "Actual values names: \t ['apple']\n",
      "Pridicted Values names: \t apple\n"
     ]
    }
   ],
   "source": [
    "image_name = test_images[0:1]\n",
    "label_names = test_labels[0:1]\n",
    "\n",
    "predicted = model.predict(np.array(image_name))\n",
    "output = {0: 'apple', \n",
    "         1: \"banana\",\n",
    "         2: 'mixed',\n",
    "         3: 'orange'}\n",
    "\n",
    "\n",
    "print(\"Actual values names: \\t\", label_names)\n",
    "print(\"Pridicted Values names: \\t\", output[np.argmax(predicted)])"
   ]
  },
  {
   "cell_type": "markdown",
   "metadata": {},
   "source": [
    "Summary"
   ]
  },
  {
   "cell_type": "code",
   "execution_count": 23,
   "metadata": {},
   "outputs": [],
   "source": [
    "# new datasets shape (224, 224)\n",
    "# Dense values (40,25, 4)\n",
    "# Activation function \"relu\" has been used.\n",
    "# Result: Acctual values and predicted values are same."
   ]
  },
  {
   "cell_type": "code",
   "execution_count": null,
   "metadata": {},
   "outputs": [],
   "source": []
  }
 ],
 "metadata": {
  "kernelspec": {
   "display_name": "Python 3",
   "language": "python",
   "name": "python3"
  },
  "language_info": {
   "codemirror_mode": {
    "name": "ipython",
    "version": 3
   },
   "file_extension": ".py",
   "mimetype": "text/x-python",
   "name": "python",
   "nbconvert_exporter": "python",
   "pygments_lexer": "ipython3",
   "version": "3.8.5"
  }
 },
 "nbformat": 4,
 "nbformat_minor": 4
}
